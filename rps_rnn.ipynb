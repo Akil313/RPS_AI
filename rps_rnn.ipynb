{
 "cells": [
  {
   "cell_type": "code",
   "execution_count": 1,
   "metadata": {},
   "outputs": [],
   "source": [
    "import numpy as np\n",
    "import pandas as pd\n",
    "import matplotlib.pyplot as plt\n",
    "import tensorflow as tf\n",
    "from tensorflow import keras\n",
    "from sklearn.model_selection import train_test_split\n",
    "from sklearn.preprocessing import LabelEncoder"
   ]
  },
  {
   "cell_type": "code",
   "execution_count": 2,
   "metadata": {},
   "outputs": [],
   "source": [
    "def play_rps(p1Choice, p2Choice):\n",
    "    \n",
    "    result = 0\n",
    "    \n",
    "    if p1Choice != p2Choice:\n",
    "        if p1Choice == 'r':\n",
    "            if p2Choice == 'p':\n",
    "                result = 2\n",
    "            elif p2Choice == 's':\n",
    "                result = 1\n",
    "        elif p1Choice == 'p':\n",
    "            if p2Choice == 'r':\n",
    "                result = 1\n",
    "            elif p2Choice == 's':\n",
    "                result = 2\n",
    "        elif p1Choice == 's':\n",
    "            if p2Choice == 'r':\n",
    "                result = 2\n",
    "            elif p2Choice == 'p':\n",
    "                result = 1\n",
    "    \n",
    "    else:\n",
    "        result = 0\n",
    "        \n",
    "    return result"
   ]
  },
  {
   "cell_type": "code",
   "execution_count": 3,
   "metadata": {},
   "outputs": [
    {
     "data": {
      "text/html": [
       "<div>\n",
       "<style scoped>\n",
       "    .dataframe tbody tr th:only-of-type {\n",
       "        vertical-align: middle;\n",
       "    }\n",
       "\n",
       "    .dataframe tbody tr th {\n",
       "        vertical-align: top;\n",
       "    }\n",
       "\n",
       "    .dataframe thead th {\n",
       "        text-align: right;\n",
       "    }\n",
       "</style>\n",
       "<table border=\"1\" class=\"dataframe\">\n",
       "  <thead>\n",
       "    <tr style=\"text-align: right;\">\n",
       "      <th></th>\n",
       "      <th>p1Choices</th>\n",
       "      <th>p2Choices</th>\n",
       "      <th>game_results</th>\n",
       "    </tr>\n",
       "  </thead>\n",
       "  <tbody>\n",
       "    <tr>\n",
       "      <th>0</th>\n",
       "      <td>s</td>\n",
       "      <td>r</td>\n",
       "      <td>2</td>\n",
       "    </tr>\n",
       "    <tr>\n",
       "      <th>1</th>\n",
       "      <td>p</td>\n",
       "      <td>r</td>\n",
       "      <td>1</td>\n",
       "    </tr>\n",
       "    <tr>\n",
       "      <th>2</th>\n",
       "      <td>r</td>\n",
       "      <td>r</td>\n",
       "      <td>0</td>\n",
       "    </tr>\n",
       "    <tr>\n",
       "      <th>3</th>\n",
       "      <td>r</td>\n",
       "      <td>p</td>\n",
       "      <td>2</td>\n",
       "    </tr>\n",
       "    <tr>\n",
       "      <th>4</th>\n",
       "      <td>s</td>\n",
       "      <td>p</td>\n",
       "      <td>1</td>\n",
       "    </tr>\n",
       "  </tbody>\n",
       "</table>\n",
       "</div>"
      ],
      "text/plain": [
       "  p1Choices p2Choices  game_results\n",
       "0         s         r             2\n",
       "1         p         r             1\n",
       "2         r         r             0\n",
       "3         r         p             2\n",
       "4         s         p             1"
      ]
     },
     "execution_count": 3,
     "metadata": {},
     "output_type": "execute_result"
    }
   ],
   "source": [
    "choices = ['p', 'r', 's']\n",
    "\n",
    "p1Choices = np.random.choice(choices, 10000).tolist()\n",
    "\n",
    "p2Choices = np.random.choice(choices, 10000).tolist()\n",
    "\n",
    "p1Scores = [play_rps(p1Choices[x], p2Choices[x]) for x in range(len(p1Choices))]\n",
    "\n",
    "rps_games = {\n",
    "    'p1Choices': p1Choices,\n",
    "    'p2Choices': p2Choices,\n",
    "    'game_results': p1Scores\n",
    "}\n",
    "\n",
    "rps_games = pd.DataFrame(data=rps_games)\n",
    "\n",
    "rps_games.head()\n",
    "\n",
    "#train_data = np.append(p1Choices, p2Choices, axis=1)"
   ]
  },
  {
   "cell_type": "code",
   "execution_count": 4,
   "metadata": {},
   "outputs": [
    {
     "data": {
      "text/html": [
       "<div>\n",
       "<style scoped>\n",
       "    .dataframe tbody tr th:only-of-type {\n",
       "        vertical-align: middle;\n",
       "    }\n",
       "\n",
       "    .dataframe tbody tr th {\n",
       "        vertical-align: top;\n",
       "    }\n",
       "\n",
       "    .dataframe thead th {\n",
       "        text-align: right;\n",
       "    }\n",
       "</style>\n",
       "<table border=\"1\" class=\"dataframe\">\n",
       "  <thead>\n",
       "    <tr style=\"text-align: right;\">\n",
       "      <th></th>\n",
       "      <th>p1Choices</th>\n",
       "      <th>p2Choices</th>\n",
       "      <th>game_results</th>\n",
       "    </tr>\n",
       "  </thead>\n",
       "  <tbody>\n",
       "    <tr>\n",
       "      <th>0</th>\n",
       "      <td>2</td>\n",
       "      <td>1</td>\n",
       "      <td>2</td>\n",
       "    </tr>\n",
       "    <tr>\n",
       "      <th>1</th>\n",
       "      <td>0</td>\n",
       "      <td>1</td>\n",
       "      <td>1</td>\n",
       "    </tr>\n",
       "    <tr>\n",
       "      <th>2</th>\n",
       "      <td>1</td>\n",
       "      <td>1</td>\n",
       "      <td>0</td>\n",
       "    </tr>\n",
       "    <tr>\n",
       "      <th>3</th>\n",
       "      <td>1</td>\n",
       "      <td>0</td>\n",
       "      <td>2</td>\n",
       "    </tr>\n",
       "    <tr>\n",
       "      <th>4</th>\n",
       "      <td>2</td>\n",
       "      <td>0</td>\n",
       "      <td>1</td>\n",
       "    </tr>\n",
       "  </tbody>\n",
       "</table>\n",
       "</div>"
      ],
      "text/plain": [
       "   p1Choices  p2Choices  game_results\n",
       "0          2          1             2\n",
       "1          0          1             1\n",
       "2          1          1             0\n",
       "3          1          0             2\n",
       "4          2          0             1"
      ]
     },
     "execution_count": 4,
     "metadata": {},
     "output_type": "execute_result"
    }
   ],
   "source": [
    "labelEnc = LabelEncoder()\n",
    "\n",
    "train_data = pd.DataFrame()\n",
    "\n",
    "for c in rps_games.columns:\n",
    "    train_data[c]=labelEnc.fit_transform(rps_games[c])\n",
    "    \n",
    "train_data.head()"
   ]
  },
  {
   "cell_type": "code",
   "execution_count": 7,
   "metadata": {},
   "outputs": [],
   "source": [
    "#X_train, X_test, y_train, y_test = train_test_split(train_data, p1Scores, test_size=0.33, random_state=42)\n",
    "\n",
    "train = train_data.sample(frac=0.8, random_state=0)\n",
    "test = train_data.drop(train.index)\n",
    "\n",
    "# train_labels = train.pop('game_results')\n",
    "# test_labels = test.pop('game_results')\n",
    "\n",
    "train = train.to_numpy()\n",
    "test = test.to_numpy()\n",
    "\n",
    "# train_labels = train_labels.to_numpy()\n",
    "# test_labels = test_labels.to_numpy()"
   ]
  },
  {
   "cell_type": "code",
   "execution_count": 8,
   "metadata": {},
   "outputs": [
    {
     "name": "stdout",
     "output_type": "stream",
     "text": [
      "[[1 1 0]\n",
      " [1 1 0]\n",
      " [0 2 2]\n",
      " ...\n",
      " [0 2 2]\n",
      " [1 0 2]\n",
      " [1 0 2]]\n"
     ]
    }
   ],
   "source": [
    "print(train)"
   ]
  },
  {
   "cell_type": "markdown",
   "metadata": {},
   "source": [
    "# Model Training"
   ]
  },
  {
   "cell_type": "markdown",
   "metadata": {},
   "source": [
    "## Artificial Neural Network"
   ]
  },
  {
   "cell_type": "code",
   "execution_count": 6,
   "metadata": {},
   "outputs": [],
   "source": [
    "snn = tf.keras.models.Sequential([\n",
    "    keras.layers.Dense(10, activation='relu'),\n",
    "    keras.layers.Dense(3, activation='softmax')\n",
    "])\n",
    "\n",
    "snn.compile(optimizer='adam',\n",
    "             loss='sparse_categorical_crossentropy',\n",
    "             metrics=['accuracy'])"
   ]
  },
  {
   "cell_type": "code",
   "execution_count": 8,
   "metadata": {},
   "outputs": [
    {
     "name": "stdout",
     "output_type": "stream",
     "text": [
      "Train on 8000 samples\n",
      "Epoch 1/10\n",
      "8000/8000 [==============================] - 1s 149us/sample - loss: 1.1146 - accuracy: 0.2076\n",
      "Epoch 2/10\n",
      "8000/8000 [==============================] - 0s 38us/sample - loss: 0.9997 - accuracy: 0.4234\n",
      "Epoch 3/10\n",
      "8000/8000 [==============================] - 0s 44us/sample - loss: 0.8843 - accuracy: 0.4970\n",
      "Epoch 4/10\n",
      "8000/8000 [==============================] - 0s 32us/sample - loss: 0.7767 - accuracy: 0.6755\n",
      "Epoch 5/10\n",
      "8000/8000 [==============================] - 0s 33us/sample - loss: 0.6708 - accuracy: 0.8239\n",
      "Epoch 6/10\n",
      "8000/8000 [==============================] - 0s 32us/sample - loss: 0.5685 - accuracy: 0.9275\n",
      "Epoch 7/10\n",
      "8000/8000 [==============================] - 0s 34us/sample - loss: 0.4754 - accuracy: 0.9865\n",
      "Epoch 8/10\n",
      "8000/8000 [==============================] - 0s 33us/sample - loss: 0.3874 - accuracy: 1.0000\n",
      "Epoch 9/10\n",
      "8000/8000 [==============================] - 0s 36us/sample - loss: 0.3089 - accuracy: 1.0000\n",
      "Epoch 10/10\n",
      "8000/8000 [==============================] - 0s 36us/sample - loss: 0.2457 - accuracy: 1.0000\n"
     ]
    },
    {
     "data": {
      "text/plain": [
       "<tensorflow.python.keras.callbacks.History at 0x228179ec2c8>"
      ]
     },
     "execution_count": 8,
     "metadata": {},
     "output_type": "execute_result"
    }
   ],
   "source": [
    "snn.fit(train, train_labels, epochs=10)"
   ]
  },
  {
   "cell_type": "code",
   "execution_count": 9,
   "metadata": {},
   "outputs": [],
   "source": [
    "# print(test_dataset[0:5])\n",
    "\n",
    "# model.predict(test_dataset).flatten()"
   ]
  },
  {
   "cell_type": "markdown",
   "metadata": {},
   "source": [
    "## Simple RNN"
   ]
  },
  {
   "cell_type": "markdown",
   "metadata": {},
   "source": [
    "RNN model required three-dimentional input data so we must transform the current data to reflect three dimensions"
   ]
  },
  {
   "cell_type": "code",
   "execution_count": 10,
   "metadata": {},
   "outputs": [
    {
     "name": "stdout",
     "output_type": "stream",
     "text": [
      "[[2 2]\n",
      " [2 0]\n",
      " [0 0]\n",
      " ...\n",
      " [1 0]\n",
      " [0 0]\n",
      " [1 2]]\n",
      "[2 2 2 ... 2 2 2]\n"
     ]
    }
   ],
   "source": [
    "print(train)\n",
    "\n",
    "num_epochs = 100\n",
    "\n",
    "\n",
    "step = 4\n",
    "\n",
    "#Add step elements into train and test\n",
    "\n",
    "rnn_train = np.append(train, np.repeat(train[-1], step))\n",
    "rnn_test = np.append(test, np.repeat(test[-1], step))\n",
    "\n",
    "print(rnn_train)"
   ]
  },
  {
   "cell_type": "code",
   "execution_count": 11,
   "metadata": {},
   "outputs": [],
   "source": [
    "def convertToMatrix(data, step):\n",
    "    X, Y = [], []\n",
    "    for i in range(len(data)-step):\n",
    "        d = i + step\n",
    "        X.append(data[i:d,])\n",
    "        Y.append(data[d,])\n",
    "    return np.array(X), np.array(Y)\n",
    "\n",
    "trainX, trainY = convertToMatrix(train, step)\n",
    "testX, testY = convertToMatrix(test, step)"
   ]
  },
  {
   "cell_type": "code",
   "execution_count": 12,
   "metadata": {},
   "outputs": [
    {
     "name": "stdout",
     "output_type": "stream",
     "text": [
      "(7996, 2, 4)\n"
     ]
    }
   ],
   "source": [
    "#print(trainX)\n",
    "#print(train[-1],trainX)\n",
    "\n",
    "rnn_trainX = np.reshape(trainX, (trainX.shape[0], 2, trainX.shape[1]))\n",
    "rnn_testX = np.reshape(testX, (testX.shape[0], 2, testX.shape[1]))\n",
    "\n",
    "print(rnn_trainX.shape)"
   ]
  },
  {
   "cell_type": "code",
   "execution_count": 16,
   "metadata": {},
   "outputs": [
    {
     "name": "stdout",
     "output_type": "stream",
     "text": [
      "Train on 7996 samples\n",
      "Epoch 1/50\n",
      "7996/7996 [==============================] - 2s 280us/sample - loss: 1.1020 - accuracy: 0.3198\n",
      "Epoch 2/50\n",
      "7996/7996 [==============================] - 1s 78us/sample - loss: 1.0986 - accuracy: 0.3354\n",
      "Epoch 3/50\n",
      "7996/7996 [==============================] - 1s 76us/sample - loss: 1.0981 - accuracy: 0.3348\n",
      "Epoch 4/50\n",
      "7996/7996 [==============================] - 1s 66us/sample - loss: 1.0977 - accuracy: 0.3405\n",
      "Epoch 5/50\n",
      "7996/7996 [==============================] - 1s 73us/sample - loss: 1.0974 - accuracy: 0.3444\n",
      "Epoch 6/50\n",
      "7996/7996 [==============================] - 1s 66us/sample - loss: 1.0966 - accuracy: 0.3460\n",
      "Epoch 7/50\n",
      "7996/7996 [==============================] - 1s 70us/sample - loss: 1.0961 - accuracy: 0.3512\n",
      "Epoch 8/50\n",
      "7996/7996 [==============================] - 1s 66us/sample - loss: 1.0955 - accuracy: 0.3519\n",
      "Epoch 9/50\n",
      "7996/7996 [==============================] - 1s 66us/sample - loss: 1.0950 - accuracy: 0.3558\n",
      "Epoch 10/50\n",
      "7996/7996 [==============================] - 1s 67us/sample - loss: 1.0947 - accuracy: 0.3566\n",
      "Epoch 11/50\n",
      "7996/7996 [==============================] - 1s 64us/sample - loss: 1.0937 - accuracy: 0.3557\n",
      "Epoch 12/50\n",
      "7996/7996 [==============================] - 1s 66us/sample - loss: 1.0929 - accuracy: 0.3601\n",
      "Epoch 13/50\n",
      "7996/7996 [==============================] - 1s 68us/sample - loss: 1.0926 - accuracy: 0.3626\n",
      "Epoch 14/50\n",
      "7996/7996 [==============================] - 1s 68us/sample - loss: 1.0922 - accuracy: 0.3626\n",
      "Epoch 15/50\n",
      "7996/7996 [==============================] - 1s 68us/sample - loss: 1.0914 - accuracy: 0.3567\n",
      "Epoch 16/50\n",
      "7996/7996 [==============================] - 1s 66us/sample - loss: 1.0911 - accuracy: 0.3649\n",
      "Epoch 17/50\n",
      "7996/7996 [==============================] - 1s 67us/sample - loss: 1.0901 - accuracy: 0.3689\n",
      "Epoch 18/50\n",
      "7996/7996 [==============================] - 1s 65us/sample - loss: 1.0892 - accuracy: 0.3696\n",
      "Epoch 19/50\n",
      "7996/7996 [==============================] - 1s 67us/sample - loss: 1.0890 - accuracy: 0.3747\n",
      "Epoch 20/50\n",
      "7996/7996 [==============================] - 1s 66us/sample - loss: 1.0882 - accuracy: 0.3742\n",
      "Epoch 21/50\n",
      "7996/7996 [==============================] - 1s 65us/sample - loss: 1.0873 - accuracy: 0.3738\n",
      "Epoch 22/50\n",
      "7996/7996 [==============================] - 1s 64us/sample - loss: 1.0868 - accuracy: 0.3798\n",
      "Epoch 23/50\n",
      "7996/7996 [==============================] - 1s 65us/sample - loss: 1.0857 - accuracy: 0.3781\n",
      "Epoch 24/50\n",
      "7996/7996 [==============================] - 1s 63us/sample - loss: 1.0849 - accuracy: 0.3781\n",
      "Epoch 25/50\n",
      "7996/7996 [==============================] - 1s 66us/sample - loss: 1.0838 - accuracy: 0.3811\n",
      "Epoch 26/50\n",
      "7996/7996 [==============================] - 1s 66us/sample - loss: 1.0840 - accuracy: 0.3803\n",
      "Epoch 27/50\n",
      "7996/7996 [==============================] - 1s 77us/sample - loss: 1.0833 - accuracy: 0.3822\n",
      "Epoch 28/50\n",
      "7996/7996 [==============================] - 1s 67us/sample - loss: 1.0821 - accuracy: 0.3862\n",
      "Epoch 29/50\n",
      "7996/7996 [==============================] - 1s 67us/sample - loss: 1.0809 - accuracy: 0.3894\n",
      "Epoch 30/50\n",
      "7996/7996 [==============================] - 1s 71us/sample - loss: 1.0811 - accuracy: 0.3831\n",
      "Epoch 31/50\n",
      "7996/7996 [==============================] - 1s 66us/sample - loss: 1.0808 - accuracy: 0.3891\n",
      "Epoch 32/50\n",
      "7996/7996 [==============================] - 1s 65us/sample - loss: 1.0798 - accuracy: 0.3848\n",
      "Epoch 33/50\n",
      "7996/7996 [==============================] - 1s 64us/sample - loss: 1.0790 - accuracy: 0.3898\n",
      "Epoch 34/50\n",
      "7996/7996 [==============================] - 1s 65us/sample - loss: 1.0786 - accuracy: 0.3839\n",
      "Epoch 35/50\n",
      "7996/7996 [==============================] - 1s 66us/sample - loss: 1.0777 - accuracy: 0.3962\n",
      "Epoch 36/50\n",
      "7996/7996 [==============================] - 1s 67us/sample - loss: 1.0773 - accuracy: 0.3941\n",
      "Epoch 37/50\n",
      "7996/7996 [==============================] - 1s 68us/sample - loss: 1.0769 - accuracy: 0.3968\n",
      "Epoch 38/50\n",
      "7996/7996 [==============================] - 1s 69us/sample - loss: 1.0763 - accuracy: 0.3991\n",
      "Epoch 39/50\n",
      "7996/7996 [==============================] - 1s 68us/sample - loss: 1.0757 - accuracy: 0.3958\n",
      "Epoch 40/50\n",
      "7996/7996 [==============================] - 1s 67us/sample - loss: 1.0749 - accuracy: 0.3982\n",
      "Epoch 41/50\n",
      "7996/7996 [==============================] - 1s 69us/sample - loss: 1.0742 - accuracy: 0.3982\n",
      "Epoch 42/50\n",
      "7996/7996 [==============================] - 1s 66us/sample - loss: 1.0738 - accuracy: 0.4001\n",
      "Epoch 43/50\n",
      "7996/7996 [==============================] - 1s 66us/sample - loss: 1.0728 - accuracy: 0.4036\n",
      "Epoch 44/50\n",
      "7996/7996 [==============================] - 1s 68us/sample - loss: 1.0719 - accuracy: 0.4098\n",
      "Epoch 45/50\n",
      "7996/7996 [==============================] - 1s 69us/sample - loss: 1.0713 - accuracy: 0.3988\n",
      "Epoch 46/50\n",
      "7996/7996 [==============================] - 1s 76us/sample - loss: 1.0703 - accuracy: 0.4045\n",
      "Epoch 47/50\n",
      "7996/7996 [==============================] - 1s 77us/sample - loss: 1.0707 - accuracy: 0.4090\n",
      "Epoch 48/50\n",
      "7996/7996 [==============================] - 1s 70us/sample - loss: 1.0695 - accuracy: 0.4067\n",
      "Epoch 49/50\n",
      "7996/7996 [==============================] - 1s 63us/sample - loss: 1.0694 - accuracy: 0.4063\n",
      "Epoch 50/50\n",
      "7996/7996 [==============================] - 1s 66us/sample - loss: 1.0690 - accuracy: 0.4097\n"
     ]
    },
    {
     "data": {
      "text/plain": [
       "<tensorflow.python.keras.callbacks.History at 0x228184c4108>"
      ]
     },
     "execution_count": 16,
     "metadata": {},
     "output_type": "execute_result"
    }
   ],
   "source": [
    "rnn = tf.keras.Sequential()\n",
    "rnn.add(keras.layers.SimpleRNN(units=32, input_shape=(2, step), activation=\"relu\"))\n",
    "rnn.add(keras.layers.Dense(8, activation='relu'))\n",
    "rnn.add(keras.layers.Dense(3, activation='softmax'))\n",
    "\n",
    "rnn.compile(optimizer='adam',\n",
    "             loss='sparse_categorical_crossentropy',\n",
    "             metrics=['accuracy'])\n",
    "\n",
    "rnn.fit(rnn_trainX, trainY[:, 0], epochs=50)"
   ]
  },
  {
   "cell_type": "code",
   "execution_count": 17,
   "metadata": {},
   "outputs": [
    {
     "name": "stdout",
     "output_type": "stream",
     "text": [
      "(1, 2, 4)\n",
      "[[0.35419765 0.35171244 0.29408988]]\n"
     ]
    }
   ],
   "source": [
    "test = np.array([[[0, 1, 1, 1], [1, 2, 2, 2]]])\n",
    "test = test.astype(float)\n",
    "print(test.shape)\n",
    "print(rnn.predict(test))"
   ]
  },
  {
   "cell_type": "code",
   "execution_count": null,
   "metadata": {},
   "outputs": [],
   "source": []
  }
 ],
 "metadata": {
  "kernelspec": {
   "display_name": "Python 3",
   "language": "python",
   "name": "python3"
  },
  "language_info": {
   "codemirror_mode": {
    "name": "ipython",
    "version": 3
   },
   "file_extension": ".py",
   "mimetype": "text/x-python",
   "name": "python",
   "nbconvert_exporter": "python",
   "pygments_lexer": "ipython3",
   "version": "3.8.3"
  }
 },
 "nbformat": 4,
 "nbformat_minor": 2
}
